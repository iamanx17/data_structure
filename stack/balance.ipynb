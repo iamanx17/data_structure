{
 "cells": [
  {
   "cell_type": "code",
   "execution_count": 4,
   "id": "92f5706f",
   "metadata": {},
   "outputs": [],
   "source": [
    "class Node:\n",
    "    def __init__(self,data):\n",
    "        self.data=data\n",
    "        self.next=None\n",
    "\n",
    "class Stack:\n",
    "    def __init__(self):\n",
    "        self.__head=None\n",
    "        self.__size=0\n",
    "    \n",
    "    def push(self,data):\n",
    "        newnode=Node(data)\n",
    "        newnode.next=self.__head\n",
    "        self.__head=newnode\n",
    "        self.__size+=1\n",
    "    \n",
    "    def pop(self):\n",
    "        if self.isEmpty() is True:\n",
    "            return 0\n",
    "        \n",
    "        data=self.__head.data\n",
    "        self.__head=self.__head.next\n",
    "        self.__size-=1\n",
    "        return data\n",
    "    \n",
    "    def top(self):\n",
    "        if self.isEmpty() is True:\n",
    "            return 0\n",
    "        data=self.__head.data\n",
    "        return data\n",
    "    \n",
    "    def size(self):\n",
    "        return self.__size\n",
    "    \n",
    "    def isEmpty(self):\n",
    "        return self.size()==0\n",
    "\n",
    "stack=Stack()"
   ]
  },
  {
   "cell_type": "code",
   "execution_count": 5,
   "id": "e03f8549",
   "metadata": {},
   "outputs": [],
   "source": [
    "def balance(string):\n",
    "    for i in string:\n",
    "        if i in '({[':\n",
    "            stack.push(i)\n",
    "        elif i==')' and stack.top()=='(':\n",
    "            stack.pop()\n",
    "        elif i=='}' and stack.top()=='{':\n",
    "            stack.pop()\n",
    "        elif i==']' and stack.top()=='[':\n",
    "            stack.pop()\n",
    "    if stack.isEmpty() is True:\n",
    "        print(True)\n",
    "    else:\n",
    "        print(False)"
   ]
  },
  {
   "cell_type": "code",
   "execution_count": 6,
   "id": "2a072762",
   "metadata": {},
   "outputs": [
    {
     "name": "stdout",
     "output_type": "stream",
     "text": [
      "{ a + [ b - c } ]\n",
      "False\n"
     ]
    }
   ],
   "source": [
    "string=input()\n",
    "balance(string)"
   ]
  },
  {
   "cell_type": "code",
   "execution_count": null,
   "id": "7b5e4ea8",
   "metadata": {},
   "outputs": [],
   "source": []
  }
 ],
 "metadata": {
  "kernelspec": {
   "display_name": "Python 3",
   "language": "python",
   "name": "python3"
  },
  "language_info": {
   "codemirror_mode": {
    "name": "ipython",
    "version": 3
   },
   "file_extension": ".py",
   "mimetype": "text/x-python",
   "name": "python",
   "nbconvert_exporter": "python",
   "pygments_lexer": "ipython3",
   "version": "3.9.2"
  }
 },
 "nbformat": 4,
 "nbformat_minor": 5
}

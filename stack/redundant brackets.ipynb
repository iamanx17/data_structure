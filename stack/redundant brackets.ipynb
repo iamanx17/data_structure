{
 "cells": [
  {
   "cell_type": "code",
   "execution_count": 20,
   "id": "26b6a9ef",
   "metadata": {},
   "outputs": [],
   "source": [
    "class Node:\n",
    "    def __init__(self,data):\n",
    "        self.data=data\n",
    "        self.next=None\n",
    "\n",
    "class Stack:\n",
    "    def __init__(self):\n",
    "        self.__head=None\n",
    "        self.__size=0\n",
    "    \n",
    "    def push(self,data):\n",
    "        newnode=Node(data)\n",
    "        newnode.next=self.__head\n",
    "        self.__head=newnode\n",
    "        self.__size+=1\n",
    "    \n",
    "    def pop(self):\n",
    "        if self.isEmpty() is True:\n",
    "            return 0\n",
    "        \n",
    "        data=self.__head.data\n",
    "        self.__head=self.__head.next\n",
    "        self.__size-=1\n",
    "        return data\n",
    "    \n",
    "    def top(self):\n",
    "        if self.isEmpty() is True:\n",
    "            return 0\n",
    "        data=self.__head.data\n",
    "        return data\n",
    "    \n",
    "    def size(self):\n",
    "        return self.__size\n",
    "    \n",
    "    def isEmpty(self):\n",
    "        return self.size()==0\n",
    "\n",
    "stack=Stack()\n"
   ]
  },
  {
   "cell_type": "code",
   "execution_count": 21,
   "id": "b29a19e5",
   "metadata": {},
   "outputs": [
    {
     "name": "stdout",
     "output_type": "stream",
     "text": [
      "((a+b))\n",
      "(\n",
      "None\n",
      ")\n",
      ")\n",
      "True\n"
     ]
    }
   ],
   "source": [
    "#assuming string is balanced\n",
    "def redudant(string):\n",
    "    for i in string:\n",
    "        if i== '(' and stack.top()==0:\n",
    "            print(i)\n",
    "            print(stack.push(i))\n",
    "        elif i=='(' and stack.top()!='(':\n",
    "            print(i)\n",
    "            print(stack.push(i))\n",
    "            \n",
    "        elif i in ')':\n",
    "            print(i)\n",
    "            stack.pop()\n",
    "\n",
    "\n",
    "string=input()\n",
    "redudant(string)\n",
    "print(stack.isEmpty())\n",
    "        \n",
    "      \n",
    "            \n",
    "    "
   ]
  },
  {
   "cell_type": "code",
   "execution_count": null,
   "id": "b6a5baab",
   "metadata": {},
   "outputs": [],
   "source": []
  }
 ],
 "metadata": {
  "kernelspec": {
   "display_name": "Python 3",
   "language": "python",
   "name": "python3"
  },
  "language_info": {
   "codemirror_mode": {
    "name": "ipython",
    "version": 3
   },
   "file_extension": ".py",
   "mimetype": "text/x-python",
   "name": "python",
   "nbconvert_exporter": "python",
   "pygments_lexer": "ipython3",
   "version": "3.9.2"
  }
 },
 "nbformat": 4,
 "nbformat_minor": 5
}

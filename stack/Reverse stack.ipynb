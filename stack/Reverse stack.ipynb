{
 "cells": [
  {
   "cell_type": "code",
   "execution_count": 5,
   "id": "7ddc511b",
   "metadata": {},
   "outputs": [],
   "source": [
    "class Node:\n",
    "    def __init__(self,data):\n",
    "        self.data=data\n",
    "        self.next=None\n",
    "\n",
    "class Stack:\n",
    "    def __init__(self):\n",
    "        self.__head=None\n",
    "        self.__size=0\n",
    "    \n",
    "    def push(self,data):\n",
    "        newnode=Node(data)\n",
    "        newnode.next=self.__head\n",
    "        self.__head=newnode\n",
    "        self.__size+=1\n",
    "    \n",
    "    def pop(self):\n",
    "        if self.isEmpty() is True:\n",
    "            return 0\n",
    "        \n",
    "        data=self.__head.data\n",
    "        self.__head=self.__head.next\n",
    "        self.__size-=1\n",
    "        return data\n",
    "    \n",
    "    def top(self):\n",
    "        if self.isEmpty() is True:\n",
    "            return 0\n",
    "        data=self.__head.data\n",
    "        return data\n",
    "    \n",
    "    def size(self):\n",
    "        return self.__size\n",
    "    \n",
    "    def isEmpty(self):\n",
    "        return self.size()==0\n",
    "\n",
    "stack=Stack()"
   ]
  },
  {
   "cell_type": "code",
   "execution_count": 11,
   "id": "63ef8dbe",
   "metadata": {},
   "outputs": [],
   "source": [
    "def reverse(stack,stack1):\n",
    "    if stack.size()<=1:\n",
    "        return\n",
    "    while stack.size()!=1:\n",
    "        ele=stack.pop()\n",
    "        stack1.push(ele)\n",
    "    lastele=stack.pop()\n",
    "    while stack1.size()!=0:\n",
    "        ele=stack1.pop()\n",
    "        stack.push(ele)\n",
    "    reverse(stack,stack1)\n",
    "    stack.push(lastele)\n"
   ]
  },
  {
   "cell_type": "code",
   "execution_count": 12,
   "id": "bcf6d802",
   "metadata": {},
   "outputs": [
    {
     "name": "stdout",
     "output_type": "stream",
     "text": [
      "1 2 3 4\n"
     ]
    },
    {
     "data": {
      "text/plain": [
       "4"
      ]
     },
     "execution_count": 12,
     "metadata": {},
     "output_type": "execute_result"
    }
   ],
   "source": [
    "stack1=Stack()\n",
    "def takeinput():\n",
    "    inputlist=[int(ele) for ele in input().split()]\n",
    "    for currdata in inputlist:\n",
    "        stack.push(currdata)\n",
    "takeinput()\n",
    "stack.top()"
   ]
  },
  {
   "cell_type": "code",
   "execution_count": 13,
   "id": "90f91d66",
   "metadata": {},
   "outputs": [
    {
     "data": {
      "text/plain": [
       "1"
      ]
     },
     "execution_count": 13,
     "metadata": {},
     "output_type": "execute_result"
    }
   ],
   "source": [
    "reverse(stack,stack1)\n",
    "stack.top()"
   ]
  },
  {
   "cell_type": "code",
   "execution_count": null,
   "id": "1d03f856",
   "metadata": {},
   "outputs": [],
   "source": []
  }
 ],
 "metadata": {
  "kernelspec": {
   "display_name": "Python 3",
   "language": "python",
   "name": "python3"
  },
  "language_info": {
   "codemirror_mode": {
    "name": "ipython",
    "version": 3
   },
   "file_extension": ".py",
   "mimetype": "text/x-python",
   "name": "python",
   "nbconvert_exporter": "python",
   "pygments_lexer": "ipython3",
   "version": "3.9.2"
  }
 },
 "nbformat": 4,
 "nbformat_minor": 5
}

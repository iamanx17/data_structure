{
 "cells": [
  {
   "cell_type": "code",
   "execution_count": null,
   "id": "676b31b7",
   "metadata": {},
   "outputs": [],
   "source": [
    "#Tree1-pending questions\n",
    "#Tree traversal\n",
    "#replace node with depth \n",
    "#is node present\n",
    "#nodes without sibling"
   ]
  },
  {
   "cell_type": "code",
   "execution_count": null,
   "id": "a9c1e163",
   "metadata": {},
   "outputs": [],
   "source": [
    "#Tree2-pending questions\n",
    "#time complexity\n",
    "#mirror binary tree\n"
   ]
  },
  {
   "cell_type": "code",
   "execution_count": 3,
   "id": "f7111347",
   "metadata": {},
   "outputs": [],
   "source": [
    "class Node:\n",
    "    \n",
    "    def __init__(self,data):\n",
    "        self.data=data\n",
    "        self.left=None\n",
    "        self.right=None\n",
    "    \n",
    "def takeinput():\n",
    "    data=int(input())\n",
    "    if data==-1:\n",
    "        return\n",
    "    newnode=Node(data)\n",
    "    newnode.left=takeinput()\n",
    "    newnode.right=takeinput()\n",
    "    return newnode\n",
    "\n",
    "def printdata(root):\n",
    "    if root is None:\n",
    "        return\n",
    "    \n",
    "    print(root.data,end=':')    \n",
    "    if root.left is not None:\n",
    "        print('L',root.left.data, end=',')\n",
    "    if root.right is not None:\n",
    "        print('R',root.right,data)\n",
    "    print()\n",
    "    \n",
    "    printdata(root.left)\n",
    "    printdata(root.right)\n",
    "\n",
    "def height(root):\n",
    "    if root is None:\n",
    "        return 0\n",
    "    left=height(root.left)\n",
    "    right=height(root.right)\n",
    "    \n",
    "    return 1 + left + right\n",
    "\n",
    "def diameter(root):\n",
    "    \n",
    "\n"
   ]
  },
  {
   "cell_type": "code",
   "execution_count": 4,
   "id": "137bcf19",
   "metadata": {},
   "outputs": [
    {
     "name": "stdout",
     "output_type": "stream",
     "text": [
      "4\n",
      "6\n",
      "-1\n",
      "-1\n",
      "8\n",
      "-1\n",
      "-1\n"
     ]
    },
    {
     "data": {
      "text/plain": [
       "True"
      ]
     },
     "execution_count": 4,
     "metadata": {},
     "output_type": "execute_result"
    }
   ],
   "source": [
    "root=takeinput()\n",
    "isbalanced(root)"
   ]
  }
 ],
 "metadata": {
  "kernelspec": {
   "display_name": "Python 3",
   "language": "python",
   "name": "python3"
  },
  "language_info": {
   "codemirror_mode": {
    "name": "ipython",
    "version": 3
   },
   "file_extension": ".py",
   "mimetype": "text/x-python",
   "name": "python",
   "nbconvert_exporter": "python",
   "pygments_lexer": "ipython3",
   "version": "3.9.2"
  }
 },
 "nbformat": 4,
 "nbformat_minor": 5
}

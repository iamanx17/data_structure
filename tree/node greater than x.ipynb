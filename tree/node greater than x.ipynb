{
 "cells": [
  {
   "cell_type": "code",
   "execution_count": 3,
   "id": "c25c0165",
   "metadata": {},
   "outputs": [],
   "source": [
    "class Node:\n",
    "    def __init__(self,data):\n",
    "        self.data=data\n",
    "        self.left=None\n",
    "        self.right=None\n",
    "\n",
    "def takeinput():\n",
    "    data=int(input())\n",
    "    if data==-1:\n",
    "        return     \n",
    "    newnode=Node(data)\n",
    "    newnode.left=takeinput()\n",
    "    newnode.right=takeinput()\n",
    "    return newnode\n",
    "\n",
    "def printdata(root):\n",
    "    if root is None:\n",
    "        return \n",
    "    print(root.data,end=':')\n",
    "    if root.left is not None:\n",
    "        print('L',root.left.data, end=',')\n",
    "    if root.right is not None:\n",
    "        print('R', root.right.data)\n",
    "    \n",
    "    print()\n",
    "    \n",
    "    printdata(root.left)\n",
    "    printdata(root.right)\n",
    "\n",
    "def greaterthanx(root,x):\n",
    "    if root is None:\n",
    "        return 0\n",
    "    count=0\n",
    "    if root.data>x:\n",
    "        count+=1\n",
    "    countleft=greaterthanx(root.left,x)\n",
    "    countright=greaterthanx(root.right,x)\n",
    "    return count+countleft+countright\n",
    " \n",
    "    \n",
    "    return count+countleft+countright\n",
    "    "
   ]
  },
  {
   "cell_type": "code",
   "execution_count": 4,
   "id": "c575312a",
   "metadata": {},
   "outputs": [
    {
     "name": "stdout",
     "output_type": "stream",
     "text": [
      "8\n",
      "3\n",
      "1\n",
      "14\n",
      "-1\n",
      "-1\n",
      "-1\n",
      "6\n",
      "-1\n",
      "-1\n",
      "10\n",
      "4\n",
      "-1\n",
      "-1\n",
      "7\n",
      "-1\n",
      "13\n",
      "-1\n",
      "-1\n",
      "8:L 3,R 10\n",
      "\n",
      "3:L 1,R 6\n",
      "\n",
      "1:L 14,\n",
      "14:\n",
      "6:\n",
      "10:L 4,R 7\n",
      "\n",
      "4:\n",
      "7:R 13\n",
      "\n",
      "13:\n",
      "8\n",
      "3\n"
     ]
    }
   ],
   "source": [
    "root=takeinput()\n",
    "printdata(root)\n",
    "x=int(input())\n",
    "print(greaterthanx(root,x))"
   ]
  },
  {
   "cell_type": "code",
   "execution_count": null,
   "id": "96aa7c94",
   "metadata": {},
   "outputs": [],
   "source": []
  }
 ],
 "metadata": {
  "kernelspec": {
   "display_name": "Python 3",
   "language": "python",
   "name": "python3"
  },
  "language_info": {
   "codemirror_mode": {
    "name": "ipython",
    "version": 3
   },
   "file_extension": ".py",
   "mimetype": "text/x-python",
   "name": "python",
   "nbconvert_exporter": "python",
   "pygments_lexer": "ipython3",
   "version": "3.9.2"
  }
 },
 "nbformat": 4,
 "nbformat_minor": 5
}

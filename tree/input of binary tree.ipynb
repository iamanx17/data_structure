{
 "cells": [
  {
   "cell_type": "code",
   "execution_count": 1,
   "id": "9632b8b7",
   "metadata": {},
   "outputs": [],
   "source": [
    "class Node:\n",
    "    def __init__(self,data):\n",
    "        self.data=data\n",
    "        self.left=None\n",
    "        self.right=None"
   ]
  },
  {
   "cell_type": "code",
   "execution_count": 2,
   "id": "7455c968",
   "metadata": {},
   "outputs": [],
   "source": [
    "def takeinput():\n",
    "    data=int(input())\n",
    "    if data == -1:\n",
    "        return\n",
    "    \n",
    "    newnode=Node(data)\n",
    "    left=takeinput()\n",
    "    right=takeinput()\n",
    "    newnode.left=left\n",
    "    newnode.right=right\n",
    "    \n",
    "    return newnode\n"
   ]
  },
  {
   "cell_type": "code",
   "execution_count": 3,
   "id": "2142ad8c",
   "metadata": {},
   "outputs": [],
   "source": [
    "def printdata(root):\n",
    "    \n",
    "    if root is None:\n",
    "        return     \n",
    "    \n",
    "    print(root.data, end=':')\n",
    "    \n",
    "    if root.left is not None:\n",
    "        print('L', root.left.data, end=',')\n",
    "        \n",
    "    if root.right is not None:\n",
    "        print('R', root.right.data)\n",
    "    \n",
    "    print()   \n",
    "    printdata(root.left)\n",
    "    printdata(root.right)   \n",
    "    \n",
    "    "
   ]
  },
  {
   "cell_type": "code",
   "execution_count": 4,
   "id": "0b54e484",
   "metadata": {},
   "outputs": [
    {
     "name": "stdout",
     "output_type": "stream",
     "text": [
      "1\n",
      "2\n",
      "-1\n",
      "-1\n",
      "3\n",
      "-1\n",
      "-1\n",
      "1:L 2,R 3\n",
      "\n",
      "2:\n",
      "3:\n"
     ]
    }
   ],
   "source": [
    "root=takeinput()\n",
    "printdata(root)"
   ]
  },
  {
   "cell_type": "code",
   "execution_count": null,
   "id": "c87f7e41",
   "metadata": {},
   "outputs": [],
   "source": []
  }
 ],
 "metadata": {
  "kernelspec": {
   "display_name": "Python 3",
   "language": "python",
   "name": "python3"
  },
  "language_info": {
   "codemirror_mode": {
    "name": "ipython",
    "version": 3
   },
   "file_extension": ".py",
   "mimetype": "text/x-python",
   "name": "python",
   "nbconvert_exporter": "python",
   "pygments_lexer": "ipython3",
   "version": "3.9.2"
  }
 },
 "nbformat": 4,
 "nbformat_minor": 5
}

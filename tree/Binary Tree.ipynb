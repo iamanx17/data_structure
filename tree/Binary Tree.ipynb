{
 "cells": [
  {
   "cell_type": "code",
   "execution_count": 4,
   "id": "e2a92830",
   "metadata": {},
   "outputs": [],
   "source": [
    "class Node:\n",
    "    def __init__(self,data):\n",
    "        self.data=data\n",
    "        self.left=None\n",
    "        self.right=None\n",
    "\n",
    "tree1=Node(1)\n",
    "tree2=Node(2)\n",
    "tree3=Node(3)"
   ]
  },
  {
   "cell_type": "code",
   "execution_count": 5,
   "id": "c4b46ba5",
   "metadata": {},
   "outputs": [],
   "source": [
    "tree1.left=tree2\n",
    "tree1.right=tree3"
   ]
  },
  {
   "cell_type": "code",
   "execution_count": 6,
   "id": "950fa3c4",
   "metadata": {},
   "outputs": [
    {
     "name": "stdout",
     "output_type": "stream",
     "text": [
      "1:L 2,R 3\n",
      "\n",
      "2:\n",
      "3:\n"
     ]
    }
   ],
   "source": [
    "def printdata(root):\n",
    "    if root is None:\n",
    "        return\n",
    "    \n",
    "    print(root.data,end=':')\n",
    "    if root.left is not None:\n",
    "        print('L', root.left.data,end=',')\n",
    "    if root.right is not None:\n",
    "        print('R',root.right.data)\n",
    "    print()\n",
    "    printdata(root.left)\n",
    "    printdata(root.right)\n",
    "\n",
    "printdata(tree1)"
   ]
  },
  {
   "cell_type": "code",
   "execution_count": null,
   "id": "48af4402",
   "metadata": {},
   "outputs": [],
   "source": []
  },
  {
   "cell_type": "code",
   "execution_count": null,
   "id": "ceed9f1b",
   "metadata": {},
   "outputs": [],
   "source": []
  }
 ],
 "metadata": {
  "kernelspec": {
   "display_name": "Python 3",
   "language": "python",
   "name": "python3"
  },
  "language_info": {
   "codemirror_mode": {
    "name": "ipython",
    "version": 3
   },
   "file_extension": ".py",
   "mimetype": "text/x-python",
   "name": "python",
   "nbconvert_exporter": "python",
   "pygments_lexer": "ipython3",
   "version": "3.9.2"
  }
 },
 "nbformat": 4,
 "nbformat_minor": 5
}

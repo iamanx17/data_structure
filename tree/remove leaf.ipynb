{
 "cells": [
  {
   "cell_type": "code",
   "execution_count": 22,
   "id": "02edff2d",
   "metadata": {},
   "outputs": [],
   "source": [
    "class Node:\n",
    "    def __init__(self,data):\n",
    "        self.data=data\n",
    "        self.left=None\n",
    "        self.right=None\n",
    "\n",
    "def takeinput():\n",
    "    data=int(input())\n",
    "    if data==-1:\n",
    "        return\n",
    "    newnode=Node(data)\n",
    "    newnode.left=takeinput()\n",
    "    newnode.right=takeinput()\n",
    "    \n",
    "    return newnode\n",
    "    \n",
    "def printree(root):\n",
    "    if root is None:\n",
    "        return \n",
    "    print(root.data,end=':')\n",
    "    if root.left is not None:\n",
    "        print('L',root.left.data,end=',')\n",
    "    if root.right is not None:\n",
    "        print('R',root.right.data)\n",
    "    print()\n",
    "    \n",
    "    printree(root.left)\n",
    "    printree(root.right)\n",
    "\n",
    "def removeleaf(root):\n",
    "    if root is None:\n",
    "        return None\n",
    "    if root.left is None and root.right is None:\n",
    "        return None\n",
    "    \n",
    "    root.left=removeleaf(root.left)\n",
    "    root.right=removeleaf(root.right)\n",
    "    return root\n",
    "    "
   ]
  },
  {
   "cell_type": "code",
   "execution_count": 23,
   "id": "2af007b2",
   "metadata": {},
   "outputs": [
    {
     "name": "stdout",
     "output_type": "stream",
     "text": [
      "1\n",
      "2\n",
      "4\n",
      "-1\n",
      "-1\n",
      "5\n",
      "-1\n",
      "-1\n",
      "36\n",
      "6\n",
      "-1\n",
      "-1\n",
      "-1\n",
      "1:L 2,R 36\n",
      "\n",
      "2:\n",
      "36:\n"
     ]
    }
   ],
   "source": [
    "root=takeinput()\n",
    "\n",
    "removeleaf(root)\n",
    "printree(root)"
   ]
  },
  {
   "cell_type": "code",
   "execution_count": null,
   "id": "eb91f94f",
   "metadata": {},
   "outputs": [],
   "source": []
  }
 ],
 "metadata": {
  "kernelspec": {
   "display_name": "Python 3",
   "language": "python",
   "name": "python3"
  },
  "language_info": {
   "codemirror_mode": {
    "name": "ipython",
    "version": 3
   },
   "file_extension": ".py",
   "mimetype": "text/x-python",
   "name": "python",
   "nbconvert_exporter": "python",
   "pygments_lexer": "ipython3",
   "version": "3.9.2"
  }
 },
 "nbformat": 4,
 "nbformat_minor": 5
}

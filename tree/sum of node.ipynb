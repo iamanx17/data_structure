{
 "cells": [
  {
   "cell_type": "code",
   "execution_count": 1,
   "id": "869d6e9c",
   "metadata": {},
   "outputs": [],
   "source": [
    "class Node:\n",
    "    def __init__(self,data):\n",
    "        self.data=data\n",
    "        self.left=None\n",
    "        self.right=None\n",
    "        \n",
    "def takeinput():\n",
    "    data=int(input())\n",
    "    \n",
    "    if data==-1:\n",
    "        return \n",
    "    \n",
    "    newnode=Node(data)\n",
    "    left=takeinput()\n",
    "    right=takeinput()\n",
    "    newnode.left=left\n",
    "    newnode.right=right\n",
    "    \n",
    "    return newnode\n",
    "\n",
    "\n",
    "def sumofnode(root):\n",
    "    if root is None:\n",
    "        return 0 \n",
    "    if root.left is not None:\n",
    "        leftdata=root.left.data\n",
    "    else:\n",
    "        return 0\n",
    "    if root.right is not None:\n",
    "        rightdata=root.right.data\n",
    "    else:\n",
    "        return 0\n",
    "    left=sumofnode(root.left)\n",
    "    right=sumofnode(root.right)\n",
    "    \n",
    "    return root.data+leftdata+rightdata\n",
    "\n",
    "\n",
    "def printdata(root):\n",
    "    if root is None:\n",
    "        return \n",
    "    \n",
    "    print(root.data, end=':')    \n",
    "    if root.left is not None:\n",
    "        print('L',root.left.data, end=',')\n",
    "    \n",
    "    if root.right is not None:\n",
    "        print('R', root.right.data)\n",
    "    \n",
    "    print()    \n",
    "    printdata(root.left)\n",
    "    printdata(root.right)\n",
    "    "
   ]
  },
  {
   "cell_type": "code",
   "execution_count": 2,
   "id": "26a99db3",
   "metadata": {},
   "outputs": [
    {
     "name": "stdout",
     "output_type": "stream",
     "text": [
      "1\n",
      "2\n",
      "4\n",
      "-1\n",
      "-1\n",
      "5\n",
      "-1\n",
      "-1\n",
      "3\n",
      "6\n",
      "-1\n",
      "-1\n",
      "-1\n",
      "1:L 2,R 3\n",
      "\n",
      "2:L 4,R 5\n",
      "\n",
      "4:\n",
      "5:\n",
      "3:L 6,\n",
      "6:\n"
     ]
    },
    {
     "data": {
      "text/plain": [
       "6"
      ]
     },
     "execution_count": 2,
     "metadata": {},
     "output_type": "execute_result"
    }
   ],
   "source": [
    "root=takeinput()\n",
    "printdata(root)\n",
    "sumofnode(root)"
   ]
  },
  {
   "cell_type": "code",
   "execution_count": null,
   "id": "33b20d09",
   "metadata": {},
   "outputs": [],
   "source": []
  }
 ],
 "metadata": {
  "kernelspec": {
   "display_name": "Python 3",
   "language": "python",
   "name": "python3"
  },
  "language_info": {
   "codemirror_mode": {
    "name": "ipython",
    "version": 3
   },
   "file_extension": ".py",
   "mimetype": "text/x-python",
   "name": "python",
   "nbconvert_exporter": "python",
   "pygments_lexer": "ipython3",
   "version": "3.9.2"
  }
 },
 "nbformat": 4,
 "nbformat_minor": 5
}

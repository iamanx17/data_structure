{
 "cells": [
  {
   "cell_type": "code",
   "execution_count": 3,
   "id": "15f7bb8f",
   "metadata": {},
   "outputs": [],
   "source": [
    "class Node:\n",
    "    def __init__(self,data):\n",
    "        self.data=data\n",
    "        self.left=None\n",
    "        self.right=None\n",
    "\n",
    "def takeinput():\n",
    "    data=int(input())\n",
    "    if data==-1:\n",
    "        return \n",
    "    newnode=Node(data)\n",
    "    newnode.left=takeinput()\n",
    "    newnode.right=takeinput()\n",
    "    return newnode\n",
    "\n",
    "def printree(root):\n",
    "    if root is None:\n",
    "        return    \n",
    "    print(root.data,end=':')\n",
    "    if root.left is not None:\n",
    "        print('L',root.left.data,end=',')\n",
    "    if root.right is not None:\n",
    "        print('R', root.right.data)\n",
    "    print()\n",
    "    \n",
    "    printree(root.left)\n",
    "    printree(root.right)\n",
    "\n",
    "\n",
    "def sumofnode(root):\n",
    "    if root is None:\n",
    "        return 0\n",
    "\n",
    "    left=sumofnode(root.left)\n",
    "    right=sumofnode(root.right)\n",
    "    \n",
    "    return left + right + root.data\n",
    "    \n",
    "   "
   ]
  },
  {
   "cell_type": "code",
   "execution_count": null,
   "id": "e4be06d7",
   "metadata": {},
   "outputs": [
    {
     "name": "stdout",
     "output_type": "stream",
     "text": [
      "1\n",
      "2\n",
      "4\n",
      "-1\n"
     ]
    }
   ],
   "source": [
    "root=takeinput()\n",
    "printree(root)\n",
    "sumofnode(root)"
   ]
  },
  {
   "cell_type": "code",
   "execution_count": null,
   "id": "bbf4da53",
   "metadata": {},
   "outputs": [],
   "source": []
  }
 ],
 "metadata": {
  "kernelspec": {
   "display_name": "Python 3",
   "language": "python",
   "name": "python3"
  },
  "language_info": {
   "codemirror_mode": {
    "name": "ipython",
    "version": 3
   },
   "file_extension": ".py",
   "mimetype": "text/x-python",
   "name": "python",
   "nbconvert_exporter": "python",
   "pygments_lexer": "ipython3",
   "version": "3.9.2"
  }
 },
 "nbformat": 4,
 "nbformat_minor": 5
}

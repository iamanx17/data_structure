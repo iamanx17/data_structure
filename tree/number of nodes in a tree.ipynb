{
 "cells": [
  {
   "cell_type": "code",
   "execution_count": 1,
   "id": "a4de7a68",
   "metadata": {},
   "outputs": [],
   "source": [
    "class Node:\n",
    "    def __init__(self,data):\n",
    "        self.data=data\n",
    "        self.left=None\n",
    "        self.right=None\n",
    "\n",
    "def takeinput():  \n",
    "    data=int(input())   \n",
    "    \n",
    "    if data == -1:\n",
    "        return\n",
    "    \n",
    "   \n",
    "    newnode=Node(data)\n",
    "    left=takeinput()\n",
    "    right=takeinput()\n",
    "    newnode.left=left\n",
    "    newnode.right=right  \n",
    "    \n",
    "    return newnode\n",
    "\n",
    "def printdata(root):      \n",
    "    if root is None:\n",
    "        return   \n",
    "    \n",
    "    print(root.data, end=':')\n",
    "    \n",
    "    if root.left is not None:\n",
    "        print('L', root.left.data, end=',')\n",
    "        \n",
    "    if root.right is not None:\n",
    "        print('R',root.right.data)\n",
    "        \n",
    "    print()     \n",
    "    printdata(root.left)\n",
    "    printdata(root.right)\n",
    "    \n",
    "\n",
    "def numofnode(root):\n",
    "    if root is None:\n",
    "        return 0\n",
    "    \n",
    "    leftcount=numofnode(root.left)\n",
    "    rightcount=numofnode(root.right)    \n",
    "    return 1 + leftcount + rightcount\n"
   ]
  },
  {
   "cell_type": "code",
   "execution_count": 2,
   "id": "efada432",
   "metadata": {},
   "outputs": [
    {
     "name": "stdout",
     "output_type": "stream",
     "text": [
      "1\n",
      "2\n",
      "-1\n",
      "-1\n",
      "3\n",
      "4\n",
      "6\n",
      "-1\n",
      "-1\n",
      "-1\n",
      "5\n",
      "-1\n",
      "-1\n",
      "1:L 2,R 3\n",
      "\n",
      "2:\n",
      "3:L 4,R 5\n",
      "\n",
      "4:L 6,\n",
      "6:\n",
      "5:\n",
      "number of node is  6\n"
     ]
    }
   ],
   "source": [
    "root=takeinput()\n",
    "printdata(root)\n",
    "print(\"number of node is \",numofnode(root))\n",
    "    \n",
    "    "
   ]
  },
  {
   "cell_type": "code",
   "execution_count": null,
   "id": "be2303d1",
   "metadata": {},
   "outputs": [],
   "source": []
  }
 ],
 "metadata": {
  "kernelspec": {
   "display_name": "Python 3",
   "language": "python",
   "name": "python3"
  },
  "language_info": {
   "codemirror_mode": {
    "name": "ipython",
    "version": 3
   },
   "file_extension": ".py",
   "mimetype": "text/x-python",
   "name": "python",
   "nbconvert_exporter": "python",
   "pygments_lexer": "ipython3",
   "version": "3.9.2"
  }
 },
 "nbformat": 4,
 "nbformat_minor": 5
}

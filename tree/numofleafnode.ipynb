{
 "cells": [
  {
   "cell_type": "code",
   "execution_count": 13,
   "id": "88859df9",
   "metadata": {},
   "outputs": [],
   "source": [
    "class Node:\n",
    "    \n",
    "    def __init__(self,data):\n",
    "        self.data=data\n",
    "        self.left=None\n",
    "        self.right=None\n",
    "    \n",
    "def takeinput():\n",
    "    data=int(input())\n",
    "    if data==-1:\n",
    "        return\n",
    "    newnode=Node(data)\n",
    "    newnode.left=takeinput()\n",
    "    newnode.right=takeinput()\n",
    "    return newnode\n",
    "\n",
    "def printdata(root):\n",
    "    if root is None:\n",
    "        return\n",
    "    \n",
    "    print(root.data,end=':')    \n",
    "    if root.left is not None:\n",
    "        print('L',root.left.data, end=',')\n",
    "    if root.right is not None:\n",
    "        print('R',root.right.data)\n",
    "    print()\n",
    "    \n",
    "    printdata(root.left)\n",
    "    printdata(root.right)\n",
    "    \n",
    "def numofleafnode(root):\n",
    "    if root is None:\n",
    "        return 0\n",
    "    if root.left is None and root.right is  None:\n",
    "        return 1\n",
    "    numleafleft=numofleafnode(root.left)\n",
    "    numleafright=numofleafnode(root.right)\n",
    "    return numleafleft+numleafright"
   ]
  },
  {
   "cell_type": "code",
   "execution_count": 14,
   "id": "8c6ad614",
   "metadata": {},
   "outputs": [
    {
     "name": "stdout",
     "output_type": "stream",
     "text": [
      "1\n",
      "2\n",
      "-1\n",
      "-1\n",
      "3\n",
      "4\n",
      "-1\n",
      "-1\n",
      "5\n",
      "-1\n",
      "-1\n",
      "1:L 2,R 3\n",
      "\n",
      "2:\n",
      "3:L 4,R 5\n",
      "\n",
      "4:\n",
      "5:\n",
      "3\n"
     ]
    }
   ],
   "source": [
    "root=takeinput()\n",
    "printdata(root)\n",
    "print(\"number of leaf node is \",numofleafnode(root))"
   ]
  },
  {
   "cell_type": "code",
   "execution_count": null,
   "id": "93d1e58c",
   "metadata": {},
   "outputs": [],
   "source": []
  }
 ],
 "metadata": {
  "kernelspec": {
   "display_name": "Python 3",
   "language": "python",
   "name": "python3"
  },
  "language_info": {
   "codemirror_mode": {
    "name": "ipython",
    "version": 3
   },
   "file_extension": ".py",
   "mimetype": "text/x-python",
   "name": "python",
   "nbconvert_exporter": "python",
   "pygments_lexer": "ipython3",
   "version": "3.9.2"
  }
 },
 "nbformat": 4,
 "nbformat_minor": 5
}

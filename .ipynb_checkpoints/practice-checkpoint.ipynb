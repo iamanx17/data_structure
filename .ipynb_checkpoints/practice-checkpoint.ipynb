{
 "cells": [
  {
   "cell_type": "code",
   "execution_count": 3,
   "id": "af50f1d6",
   "metadata": {},
   "outputs": [],
   "source": [
    "class Tree:\n",
    "    def __init__(self, data):\n",
    "        self.data=data\n",
    "        self.left=None\n",
    "        self.right=None\n",
    "        \n",
    "def takeinput():\n",
    "    data=int(input())\n",
    "    if data==-1:\n",
    "        return\n",
    "    newnode=Tree(data)\n",
    "    newnode.left=takeinput()\n",
    "    newnode.right=takeinput()\n",
    "    return newnode\n",
    "\n",
    "def printdata(root):\n",
    "    if root is None:\n",
    "        return\n",
    "    print(root.data,end=':')\n",
    "    if root.left is not None:\n",
    "        print('L',root.left.data, end=',')\n",
    "    if root.right is not None:\n",
    "        print('R',root.right.data)\n",
    "    print()\n",
    "    printdata(root.left)\n",
    "\n",
    "def height(root):\n",
    "    if root is None:\n",
    "        return 0\n",
    "    \n",
    "    return 1 + max(height(root.left),height(root.right))\n",
    "\n",
    "def diameter(root):\n",
    "    if root is None:\n",
    "        return 0\n",
    "    \n",
    "    lh=height(root.left)\n",
    "    rh=height(root.right)\n",
    "    \n",
    "    left=diameter(root.left)\n",
    "    right=diameter(root.right)\n",
    "    \n",
    "    \n",
    "    \n",
    "    \n",
    "    \n",
    "\n",
    "\n",
    "    \n",
    "    "
   ]
  },
  {
   "cell_type": "code",
   "execution_count": 4,
   "id": "e4768141",
   "metadata": {},
   "outputs": [
    {
     "name": "stdout",
     "output_type": "stream",
     "text": [
      "1\n",
      "2\n",
      "3\n",
      "6\n",
      "-1\n",
      "-1\n",
      "-1\n",
      "4\n",
      "-1\n",
      "-1\n",
      "5\n",
      "-1\n",
      "-1\n",
      "1:L 2,R 5\n",
      "\n",
      "2:L 3,R 4\n",
      "\n",
      "3:L 6,\n",
      "6:\n"
     ]
    },
    {
     "data": {
      "text/plain": [
       "3"
      ]
     },
     "execution_count": 4,
     "metadata": {},
     "output_type": "execute_result"
    }
   ],
   "source": [
    "root=takeinput()\n",
    "printdata(root)\n",
    "diameter(root)"
   ]
  },
  {
   "cell_type": "code",
   "execution_count": null,
   "id": "0b77dca7",
   "metadata": {},
   "outputs": [],
   "source": []
  }
 ],
 "metadata": {
  "kernelspec": {
   "display_name": "Python 3",
   "language": "python",
   "name": "python3"
  },
  "language_info": {
   "codemirror_mode": {
    "name": "ipython",
    "version": 3
   },
   "file_extension": ".py",
   "mimetype": "text/x-python",
   "name": "python",
   "nbconvert_exporter": "python",
   "pygments_lexer": "ipython3",
   "version": "3.9.2"
  }
 },
 "nbformat": 4,
 "nbformat_minor": 5
}

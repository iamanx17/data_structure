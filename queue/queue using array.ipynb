{
 "cells": [
  {
   "cell_type": "code",
   "execution_count": null,
   "id": "06330b28",
   "metadata": {},
   "outputs": [],
   "source": [
    "class Queueusingarray:\n",
    "    def __init__(self):\n",
    "        self.__arr=[]\n",
    "        self.__count=0\n",
    "        self.__front=0\n",
    "    \n",
    "    def enqueue(self,data):\n",
    "        self.__arr.append(data)\n",
    "        self.__count+=1\n",
    "    \n",
    "    def dequeue(self):\n",
    "        if self.__count==0:\n",
    "            return 0\n",
    "        \n",
    "        element=self.__arr[self.__front]\n",
    "        self.__front+=1\n",
    "        self.__count-=1\n",
    "        return element\n",
    "    \n",
    "    def front(self):\n",
    "        if self.__count==0:\n",
    "            return -1\n",
    "        return self.__arr[self.__front]\n",
    "    \n",
    "    def size(self):\n",
    "        return self.__count\n",
    "\n",
    "    def isEmpty(self):\n",
    "        return self.size()==0\n",
    "        "
   ]
  }
 ],
 "metadata": {
  "kernelspec": {
   "display_name": "Python 3",
   "language": "python",
   "name": "python3"
  },
  "language_info": {
   "codemirror_mode": {
    "name": "ipython",
    "version": 3
   },
   "file_extension": ".py",
   "mimetype": "text/x-python",
   "name": "python",
   "nbconvert_exporter": "python",
   "pygments_lexer": "ipython3",
   "version": "3.9.2"
  }
 },
 "nbformat": 4,
 "nbformat_minor": 5
}

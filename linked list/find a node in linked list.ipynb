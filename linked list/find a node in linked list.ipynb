{
 "cells": [
  {
   "cell_type": "code",
   "execution_count": 2,
   "id": "13a892fa",
   "metadata": {},
   "outputs": [
    {
     "name": "stdout",
     "output_type": "stream",
     "text": [
      "1\n",
      "10 20 30 40 50 60 -1\n",
      "6\n",
      "-1\n"
     ]
    }
   ],
   "source": [
    "class Node:\n",
    "    def __init__(self,data):\n",
    "        self.data=data\n",
    "        self.next=None\n",
    "\n",
    "def takeinput():\n",
    "    inputlist=[int(ele) for ele in input().split()]\n",
    "    head=None\n",
    "    tail=None\n",
    "    for currdata in inputlist:\n",
    "        if currdata==-1:\n",
    "            break\n",
    "        \n",
    "        newnode=Node(currdata)\n",
    "        if head is None:\n",
    "            head=newnode\n",
    "            tail=newnode\n",
    "        else:\n",
    "            tail.next=newnode\n",
    "            tail=newnode\n",
    "    return head\n",
    "\n",
    "def printdata(head):\n",
    "    while head is not None:\n",
    "        print(str(head.data)+'->',end='')\n",
    "        head=head.next\n",
    "    print('None')\n",
    "\n",
    "def search(head,data):\n",
    "    count=0\n",
    "    res=0\n",
    "    while head is not None:\n",
    "        if head.data==data:\n",
    "            res=count\n",
    "        head=head.next\n",
    "        count+=1\n",
    "    if res>0:\n",
    "        print(res)\n",
    "    else:\n",
    "        print(-1)\n",
    "    \n",
    "\n",
    "for i in range(int(input())):\n",
    "    head=takeinput()\n",
    "    value=int(input())\n",
    "    search(head,value)\n",
    "  \n",
    "    "
   ]
  },
  {
   "cell_type": "code",
   "execution_count": null,
   "id": "8ad10555",
   "metadata": {},
   "outputs": [],
   "source": []
  }
 ],
 "metadata": {
  "kernelspec": {
   "display_name": "Python 3",
   "language": "python",
   "name": "python3"
  },
  "language_info": {
   "codemirror_mode": {
    "name": "ipython",
    "version": 3
   },
   "file_extension": ".py",
   "mimetype": "text/x-python",
   "name": "python",
   "nbconvert_exporter": "python",
   "pygments_lexer": "ipython3",
   "version": "3.9.2"
  }
 },
 "nbformat": 4,
 "nbformat_minor": 5
}

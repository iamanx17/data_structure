{
 "cells": [
  {
   "cell_type": "code",
   "execution_count": 2,
   "id": "cf15f131",
   "metadata": {},
   "outputs": [
    {
     "name": "stdout",
     "output_type": "stream",
     "text": [
      "2\n",
      "0 2 3 2 5 -1\n",
      "False\n",
      "-1\n",
      "True\n"
     ]
    }
   ],
   "source": [
    "class Node:\n",
    "    def __init__(self,data):\n",
    "        self.data=data\n",
    "        self.next=None\n",
    "\n",
    "def takeinput():\n",
    "    inputlist=[int(ele) for ele in input().split()]\n",
    "    head=None\n",
    "    tail=None\n",
    "    for currdata in inputlist:\n",
    "        if currdata==-1:\n",
    "            break\n",
    "        \n",
    "        newnode=Node(currdata)\n",
    "        if head is None:\n",
    "            head=newnode\n",
    "            tail=newnode\n",
    "        else:\n",
    "            tail.next=newnode\n",
    "            tail=newnode\n",
    "    return head\n",
    "\n",
    "def printdata(head):\n",
    "    while head is not None:\n",
    "        print(str(head.data)+'->',end='')\n",
    "        head=head.next\n",
    "    print('None')\n",
    "    \n",
    "def reverse(head):\n",
    "    prev=None\n",
    "    curr=head\n",
    "    while curr is not None:\n",
    "        nxt=curr.next\n",
    "        curr.next=prev\n",
    "        prev=curr\n",
    "        curr=nxt\n",
    "    return prev\n",
    "\n",
    "def plaindrome(head):\n",
    "    head2=reverse(head)\n",
    "    res=0\n",
    "    while head is not None:\n",
    "        if head.data==head2.data:\n",
    "            pass\n",
    "        else:\n",
    "            res+=1\n",
    "\n",
    "        head=head.next\n",
    "        \n",
    "    if res>0:\n",
    "        return False\n",
    "    else:\n",
    "        return True\n",
    "    \n",
    "\n",
    "for i in range(int(input())):\n",
    "    head=takeinput()\n",
    "    print(plaindrome(head))\n",
    "  \n",
    "    "
   ]
  },
  {
   "cell_type": "code",
   "execution_count": null,
   "id": "e6091d46",
   "metadata": {},
   "outputs": [],
   "source": []
  }
 ],
 "metadata": {
  "kernelspec": {
   "display_name": "Python 3",
   "language": "python",
   "name": "python3"
  },
  "language_info": {
   "codemirror_mode": {
    "name": "ipython",
    "version": 3
   },
   "file_extension": ".py",
   "mimetype": "text/x-python",
   "name": "python",
   "nbconvert_exporter": "python",
   "pygments_lexer": "ipython3",
   "version": "3.9.2"
  }
 },
 "nbformat": 4,
 "nbformat_minor": 5
}

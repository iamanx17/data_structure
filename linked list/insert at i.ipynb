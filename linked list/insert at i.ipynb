{
 "cells": [
  {
   "cell_type": "code",
   "execution_count": 1,
   "id": "11301b54",
   "metadata": {},
   "outputs": [],
   "source": [
    "class Node:\n",
    "    def __init__(self,data):\n",
    "        self.data = data\n",
    "        self.next = None    \n",
    "\n",
    "def takeinput():\n",
    "    inputlist=[int(ele) for ele in input().split()]\n",
    "    head=None\n",
    "    tail=None\n",
    "    for currdata in inputlist:\n",
    "        if currdata==-1:\n",
    "            break\n",
    "        \n",
    "        newnode=Node(currdata)\n",
    "        \n",
    "        if head is None:\n",
    "            head=newnode\n",
    "            tail=newnode\n",
    "        else:\n",
    "            tail.next=newnode\n",
    "            tail=newnode\n",
    "    return head\n",
    "\n",
    "def printdata(head):\n",
    "    while head is not None:\n",
    "        print(str(head.data), end='->')\n",
    "        head=head.next\n",
    "    print('None') \n",
    "\n",
    "def insertati(head,i,data):\n",
    "    if i==0:\n",
    "        newnode=Node(data)\n",
    "        newnode.next=head\n",
    "        return newnode\n",
    "    count=0\n",
    "    source=head\n",
    "    while count<i:\n",
    "        curr=head\n",
    "        head=head.next\n",
    "        count+=1\n",
    "    newnode=Node(data)\n",
    "    curr.next=newnode\n",
    "    newnode.next=head\n",
    "    return source\n",
    "    "
   ]
  },
  {
   "cell_type": "code",
   "execution_count": 2,
   "id": "d2c939b1",
   "metadata": {},
   "outputs": [
    {
     "name": "stdout",
     "output_type": "stream",
     "text": [
      "1 2 3 4 5 6 -1\n",
      "1->2->3->4->5->6->None\n",
      "Enter position1\n",
      "Enter data10\n",
      "1->10->2->3->4->5->6->None\n"
     ]
    }
   ],
   "source": [
    "head = takeinput()\n",
    "printdata(head)\n",
    "pos=int(input('Enter position'))\n",
    "data=int(input('Enter data'))\n",
    "printdata(insertati(head,pos,data))"
   ]
  },
  {
   "cell_type": "code",
   "execution_count": null,
   "id": "acdb099e",
   "metadata": {},
   "outputs": [],
   "source": []
  }
 ],
 "metadata": {
  "kernelspec": {
   "display_name": "Python 3",
   "language": "python",
   "name": "python3"
  },
  "language_info": {
   "codemirror_mode": {
    "name": "ipython",
    "version": 3
   },
   "file_extension": ".py",
   "mimetype": "text/x-python",
   "name": "python",
   "nbconvert_exporter": "python",
   "pygments_lexer": "ipython3",
   "version": "3.9.2"
  }
 },
 "nbformat": 4,
 "nbformat_minor": 5
}

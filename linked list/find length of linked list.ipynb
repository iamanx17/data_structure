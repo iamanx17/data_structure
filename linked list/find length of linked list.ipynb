{
 "cells": [
  {
   "cell_type": "code",
   "execution_count": null,
   "id": "56a1feb2",
   "metadata": {},
   "outputs": [],
   "source": [
    "class Node:\n",
    "    def __init__(self,data):\n",
    "        self.data=data\n",
    "        self.next=None\n",
    "\n",
    "def takeinput():\n",
    "    inputlist=[int(ele) for ele in input().split()]\n",
    "    head=None\n",
    "    tail=None\n",
    "    for currdata in inputlist:\n",
    "        if currdata==-1:\n",
    "            break\n",
    "        \n",
    "        newnode=Node(currdata)\n",
    "        if head is None:\n",
    "            head=newnode\n",
    "            tail=newnode\n",
    "        else:\n",
    "            tail.next=newnode\n",
    "            tail=newnode\n",
    "    return head\n",
    "\n",
    "def printdata(head):\n",
    "    while head is not None:\n",
    "        print(str(head.data)+'->',end='')\n",
    "        head=head.next\n",
    "    print('None')\n",
    "\n",
    "def length(head):\n",
    "    count=0\n",
    "    while head is not None:\n",
    "        count+=1\n",
    "        head=head.next\n",
    "    return count\n",
    "\n",
    "for i in range(int(input())):\n",
    "    head=takeinput()\n",
    "    print(length(head))\n",
    "    \n",
    "    "
   ]
  },
  {
   "cell_type": "code",
   "execution_count": null,
   "id": "26af8046",
   "metadata": {},
   "outputs": [],
   "source": []
  }
 ],
 "metadata": {
  "kernelspec": {
   "display_name": "Python 3",
   "language": "python",
   "name": "python3"
  },
  "language_info": {
   "codemirror_mode": {
    "name": "ipython",
    "version": 3
   },
   "file_extension": ".py",
   "mimetype": "text/x-python",
   "name": "python",
   "nbconvert_exporter": "python",
   "pygments_lexer": "ipython3",
   "version": "3.9.2"
  }
 },
 "nbformat": 4,
 "nbformat_minor": 5
}

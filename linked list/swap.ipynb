{
 "cells": [
  {
   "cell_type": "code",
   "execution_count": 6,
   "id": "f4543291",
   "metadata": {},
   "outputs": [
    {
     "name": "stdout",
     "output_type": "stream",
     "text": [
      "1\n",
      "3 4 5 2 6 1 9 -1\n",
      "2 4 \n",
      "2 4\n",
      "3->4->6->5->1->9->None\n"
     ]
    }
   ],
   "source": [
    "class Node:\n",
    "    def __init__(self,data):\n",
    "        self.data=data\n",
    "        self.next=None\n",
    "\n",
    "def takeinput():\n",
    "    inputlist=[int(ele) for ele in input().split()]\n",
    "    head=None\n",
    "    tail=None\n",
    "    for currdata in inputlist:\n",
    "        if currdata==-1:\n",
    "            break\n",
    "        \n",
    "        newnode=Node(currdata)\n",
    "        if head is None:\n",
    "            head=newnode\n",
    "            tail=newnode\n",
    "        else:\n",
    "            tail.next=newnode\n",
    "            tail=newnode\n",
    "    return head\n",
    "\n",
    "def printdata(head):\n",
    "    while head is not None:\n",
    "        print(str(head.data)+'->',end='')\n",
    "        head=head.next\n",
    "    print('None')\n",
    "\n",
    "def swap(head,n,m):#it can swap alternate value but not far\n",
    "    count=0\n",
    "    source=head\n",
    "    head1=head\n",
    "    while count<n:\n",
    "        curr=head\n",
    "        head=head.next\n",
    "        count+=1\n",
    "    first=head\n",
    "    head=head1\n",
    "    count=0\n",
    "    while count<m:\n",
    "        head=head.next\n",
    "        count+=1\n",
    "    two=head\n",
    "    \n",
    "    temp2=first.next\n",
    "    curr.next=two\n",
    "    two.next=temp2\n",
    "    temp=two.next\n",
    "    two.next=first\n",
    "    first.next=temp\n",
    "    printdata(source)\n",
    "        \n",
    "    \n",
    "        \n",
    "\n",
    "for i in range(int(input())):\n",
    "    head=takeinput()\n",
    "    n,m=map(int,input().split())\n",
    "    print(n,m)\n",
    "\n",
    "    swap(head,n,m)\n",
    " \n",
    "       "
   ]
  },
  {
   "cell_type": "code",
   "execution_count": null,
   "id": "61c7a316",
   "metadata": {},
   "outputs": [],
   "source": []
  }
 ],
 "metadata": {
  "kernelspec": {
   "display_name": "Python 3",
   "language": "python",
   "name": "python3"
  },
  "language_info": {
   "codemirror_mode": {
    "name": "ipython",
    "version": 3
   },
   "file_extension": ".py",
   "mimetype": "text/x-python",
   "name": "python",
   "nbconvert_exporter": "python",
   "pygments_lexer": "ipython3",
   "version": "3.9.2"
  }
 },
 "nbformat": 4,
 "nbformat_minor": 5
}

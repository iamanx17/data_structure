{
 "cells": [
  {
   "cell_type": "code",
   "execution_count": 2,
   "id": "81b1c468",
   "metadata": {},
   "outputs": [
    {
     "name": "stdout",
     "output_type": "stream",
     "text": [
      "2\n",
      "3 4 5 2 6 1 9 -1\n",
      "0\n",
      "3\n",
      "9 8 4 0 7 8 -1\n",
      "3\n",
      "0\n"
     ]
    }
   ],
   "source": [
    "class Node:\n",
    "    def __init__(self,data):\n",
    "        self.data=data\n",
    "        self.next=None\n",
    "\n",
    "def takeinput():\n",
    "    inputlist=[int(ele) for ele in input().split()]\n",
    "    head=None\n",
    "    tail=None\n",
    "    for currdata in inputlist:\n",
    "        if currdata==-1:\n",
    "            break\n",
    "        \n",
    "        newnode=Node(currdata)\n",
    "        if head is None:\n",
    "            head=newnode\n",
    "            tail=newnode\n",
    "        else:\n",
    "            tail.next=newnode\n",
    "            tail=newnode\n",
    "    return head\n",
    "\n",
    "def printdata(head):\n",
    "    while head is not None:\n",
    "        print(str(head.data)+'->',end='')\n",
    "        head=head.next\n",
    "    print('None')\n",
    "\n",
    "def printati(head,i):\n",
    "    count=0\n",
    "    while count<i:\n",
    "        head=head.next\n",
    "        count+=1\n",
    "    return head.data\n",
    "\n",
    "for i in range(int(input())):\n",
    "    head=takeinput()\n",
    "    pos=int(input())\n",
    "    print(printati(head,pos))\n",
    " \n",
    "    "
   ]
  },
  {
   "cell_type": "code",
   "execution_count": null,
   "id": "a8cca97b",
   "metadata": {},
   "outputs": [],
   "source": []
  }
 ],
 "metadata": {
  "kernelspec": {
   "display_name": "Python 3",
   "language": "python",
   "name": "python3"
  },
  "language_info": {
   "codemirror_mode": {
    "name": "ipython",
    "version": 3
   },
   "file_extension": ".py",
   "mimetype": "text/x-python",
   "name": "python",
   "nbconvert_exporter": "python",
   "pygments_lexer": "ipython3",
   "version": "3.9.2"
  }
 },
 "nbformat": 4,
 "nbformat_minor": 5
}

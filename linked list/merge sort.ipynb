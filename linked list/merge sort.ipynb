{
 "cells": [
  {
   "cell_type": "code",
   "execution_count": 9,
   "id": "c20ad0ac",
   "metadata": {},
   "outputs": [],
   "source": [
    "class Node:\n",
    "    def __init__(self,data):\n",
    "        self.data = data\n",
    "        self.next = None    \n",
    "\n",
    "def takeinput():\n",
    "    inputlist=[int(ele) for ele in input().split()]\n",
    "    head=None\n",
    "    tail=None\n",
    "    for currdata in inputlist:\n",
    "        if currdata==-1:\n",
    "            break\n",
    "        \n",
    "        newnode=Node(currdata)\n",
    "        \n",
    "        if head is None:\n",
    "            head=newnode\n",
    "            tail=newnode\n",
    "        else:\n",
    "            tail.next=newnode\n",
    "            tail=newnode\n",
    "    return head\n",
    "\n",
    "def printdata(head):\n",
    "    while head is not None:\n",
    "        print(str(head.data), end='->')\n",
    "        head=head.next\n",
    "    print('None') \n",
    "\n",
    "\n",
    "def mergesort(head1,head2):#head1 and head2 must be sorted\n",
    "    head=None\n",
    "    tail=None\n",
    "    if head1.data<head2.data:\n",
    "        head=head1\n",
    "        tail=head1\n",
    "        head1=head1.next\n",
    "    else:\n",
    "        head=head2\n",
    "        tail=head2\n",
    "        head2=head2.next        \n",
    "    while head1!=None and head2!=None:\n",
    "        if head1.data<=head2.data:\n",
    "            tail.next=head1\n",
    "            tail=tail.next\n",
    "            head1=head1.next\n",
    "        else:\n",
    "            tail.next=head2\n",
    "            tail=tail.next\n",
    "            head2=head2.next\n",
    "    if head1 is None:\n",
    "        tail.next=head2\n",
    "    if head2 is None:\n",
    "        tail.next=head1\n",
    "    return head"
   ]
  },
  {
   "cell_type": "code",
   "execution_count": 10,
   "id": "5dd22186",
   "metadata": {},
   "outputs": [
    {
     "name": "stdout",
     "output_type": "stream",
     "text": [
      "2 5 8 12 -1\n",
      "3 6 9 -1\n",
      "2->3->5->6->8->9->12->None\n"
     ]
    }
   ],
   "source": [
    "head1 =takeinput()\n",
    "head2 = takeinput()\n",
    "head=mergesort(head1,head2)\n",
    "printdata(head)"
   ]
  },
  {
   "cell_type": "code",
   "execution_count": null,
   "id": "e6569b7c",
   "metadata": {},
   "outputs": [],
   "source": []
  }
 ],
 "metadata": {
  "kernelspec": {
   "display_name": "Python 3",
   "language": "python",
   "name": "python3"
  },
  "language_info": {
   "codemirror_mode": {
    "name": "ipython",
    "version": 3
   },
   "file_extension": ".py",
   "mimetype": "text/x-python",
   "name": "python",
   "nbconvert_exporter": "python",
   "pygments_lexer": "ipython3",
   "version": "3.9.2"
  }
 },
 "nbformat": 4,
 "nbformat_minor": 5
}

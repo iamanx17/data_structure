{
 "cells": [
  {
   "cell_type": "code",
   "execution_count": 12,
   "id": "c4bb2988",
   "metadata": {},
   "outputs": [],
   "source": [
    "class Node:\n",
    "    def __init__(self, data):\n",
    "        self.data=data\n",
    "        self.next=None\n",
    "    \n",
    "def takeinput():\n",
    "    inputlist=[int(ele) for ele in input().split()]\n",
    "    head=None\n",
    "    tail=None\n",
    "    for currdata in inputlist:\n",
    "        if currdata == -1:\n",
    "            break\n",
    "        \n",
    "        newnode= Node(currdata)\n",
    "        if head is None:\n",
    "            head=newnode\n",
    "            tail=newnode\n",
    "        else:\n",
    "            tail.next = newnode\n",
    "            tail=newnode\n",
    "    return head\n",
    "\n",
    "def printdata(head):\n",
    "    while head is not None:\n",
    "        print(str(head.data),end='->')\n",
    "        head=head.next\n",
    "    print('None')\n",
    "\n",
    "def mid(head):\n",
    "    slow=head\n",
    "    fast=head\n",
    "    while fast.next !=None and fast.next.next !=None:\n",
    "        slow=slow.next\n",
    "        fast=fast.next.next\n",
    "    return slow\n",
    "\n",
    "            "
   ]
  },
  {
   "cell_type": "code",
   "execution_count": 15,
   "id": "c01957b5",
   "metadata": {},
   "outputs": [
    {
     "name": "stdout",
     "output_type": "stream",
     "text": [
      "1 2 3 4 5 6 -1\n",
      "1->2->3->4->5->6->None\n",
      "3->4->5->6->None\n"
     ]
    }
   ],
   "source": [
    "head =takeinput()\n",
    "printdata(head)\n",
    "printdata(mid(head))"
   ]
  },
  {
   "cell_type": "code",
   "execution_count": null,
   "id": "c9e403b0",
   "metadata": {},
   "outputs": [],
   "source": []
  }
 ],
 "metadata": {
  "kernelspec": {
   "display_name": "Python 3",
   "language": "python",
   "name": "python3"
  },
  "language_info": {
   "codemirror_mode": {
    "name": "ipython",
    "version": 3
   },
   "file_extension": ".py",
   "mimetype": "text/x-python",
   "name": "python",
   "nbconvert_exporter": "python",
   "pygments_lexer": "ipython3",
   "version": "3.9.2"
  }
 },
 "nbformat": 4,
 "nbformat_minor": 5
}

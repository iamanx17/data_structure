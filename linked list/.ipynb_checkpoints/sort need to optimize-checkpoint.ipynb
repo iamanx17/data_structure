{
 "cells": [
  {
   "cell_type": "code",
   "execution_count": 10,
   "id": "69d6e1a6",
   "metadata": {},
   "outputs": [],
   "source": [
    "class Node:\n",
    "    def __init__(self,data):\n",
    "        self.data = data\n",
    "        self.next = None    \n",
    "\n",
    "def takeinput():\n",
    "    inputlist=[int(ele) for ele in input().split()]\n",
    "    head=None\n",
    "    tail=None\n",
    "    for currdata in inputlist:\n",
    "        if currdata==-1:\n",
    "            break\n",
    "        \n",
    "        newnode=Node(currdata)\n",
    "        \n",
    "        if head is None:\n",
    "            head=newnode\n",
    "            tail=newnode\n",
    "        else:\n",
    "            tail.next=newnode\n",
    "            tail=newnode\n",
    "    return head\n",
    "\n",
    "def printdata(head):\n",
    "    while head is not None:\n",
    "        print(str(head.data), end='->')\n",
    "        head=head.next\n",
    "    print('None') \n",
    "\n",
    "def mid(head):\n",
    "    slow=head\n",
    "    fast=head\n",
    "    while fast.next is not None and fast.next.next is not None:\n",
    "        slow=slow.next\n",
    "        fast=fast.next.next\n",
    "    return slow\n",
    "\n",
    "def mergesort(head1,head2):\n",
    "    head=None\n",
    "    tail=None\n",
    "    if head1.data<head2.data:\n",
    "        head=head1\n",
    "        tail=head1\n",
    "        head1=head1.next\n",
    "    else:\n",
    "        head=head2\n",
    "        tail=head2\n",
    "        head2=head2.next\n",
    "        \n",
    "        \n",
    "    while head1.next !=None and head2.next !=None:\n",
    "        if head1.data<=head2.data:\n",
    "            tail.next=head1\n",
    "            tail=head1\n",
    "            head1=head1.next\n",
    "        else:\n",
    "            tail.next=head2\n",
    "            tail=head2\n",
    "            head2=head2.next\n",
    "    if head1.next is None:\n",
    "        tail.next=head2\n",
    "    if head2.next is None:\n",
    "        tail.next=head1\n",
    "\n",
    "    return head\n",
    "\n",
    "\n",
    "def sort(head):\n",
    "    middle=mid(head)\n",
    "    nextomid=middle.next\n",
    "    middle.next=None\n",
    "    printdata(head)\n",
    "    printdata(nextomid)\n",
    "    reverse=mergesort(head,nextomid)\n",
    "    return reverse"
   ]
  },
  {
   "cell_type": "code",
   "execution_count": 11,
   "id": "a20f2fb2",
   "metadata": {},
   "outputs": [
    {
     "name": "stdout",
     "output_type": "stream",
     "text": [
      "1 2 -1\n",
      "4 5 -1\n",
      "1->2->None\n"
     ]
    }
   ],
   "source": [
    "head1=takeinput()\n",
    "head2=takeinput()\n",
    "printdata(mergesort(head1,head2))"
   ]
  },
  {
   "cell_type": "code",
   "execution_count": null,
   "id": "77bef4bb",
   "metadata": {},
   "outputs": [],
   "source": []
  }
 ],
 "metadata": {
  "kernelspec": {
   "display_name": "Python 3",
   "language": "python",
   "name": "python3"
  },
  "language_info": {
   "codemirror_mode": {
    "name": "ipython",
    "version": 3
   },
   "file_extension": ".py",
   "mimetype": "text/x-python",
   "name": "python",
   "nbconvert_exporter": "python",
   "pygments_lexer": "ipython3",
   "version": "3.9.2"
  }
 },
 "nbformat": 4,
 "nbformat_minor": 5
}

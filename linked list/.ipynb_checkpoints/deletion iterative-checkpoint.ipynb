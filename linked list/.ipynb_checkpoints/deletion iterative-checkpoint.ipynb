{
 "cells": [
  {
   "cell_type": "code",
   "execution_count": 1,
   "id": "43dd7485",
   "metadata": {},
   "outputs": [],
   "source": [
    "class Node:\n",
    "    def __init__(self,data):\n",
    "        self.data = data\n",
    "        self.next = None    \n",
    "\n",
    "def takeinput():\n",
    "    inputlist=[int(ele) for ele in input().split()]\n",
    "    head=None\n",
    "    tail=None\n",
    "    for currdata in inputlist:\n",
    "        if currdata==-1:\n",
    "            break\n",
    "        \n",
    "        newnode=Node(currdata)\n",
    "        \n",
    "        if head is None:\n",
    "            head=newnode\n",
    "            tail=newnode\n",
    "        else:\n",
    "            tail.next=newnode\n",
    "            tail=newnode\n",
    "    return head\n",
    "\n",
    "def printdata(head):\n",
    "    while head is not None:\n",
    "        print(str(head.data), end='->')\n",
    "        head=head.next\n",
    "    print('None')\n",
    "    \n",
    "def delete(head,i):\n",
    "    if i==0:\n",
    "        head=head.next\n",
    "        return head\n",
    "    source=head\n",
    "    count=0\n",
    "    while count<i:\n",
    "        curr=head\n",
    "        head=head.next\n",
    "        count+=1\n",
    "    curr.next=head.next\n",
    "    return source\n",
    "    "
   ]
  },
  {
   "cell_type": "code",
   "execution_count": 3,
   "id": "3856d914",
   "metadata": {},
   "outputs": [
    {
     "name": "stdout",
     "output_type": "stream",
     "text": [
      "1 2 34 4 5 6 -1\n",
      "1->2->34->4->5->6->None\n",
      "2\n",
      "1->2->4->5->6->None\n"
     ]
    }
   ],
   "source": [
    "head=takeinput()\n",
    "printdata(head)\n",
    "i=int(input())\n",
    "printdata(delete(head,i))"
   ]
  },
  {
   "cell_type": "code",
   "execution_count": null,
   "id": "86264c89",
   "metadata": {},
   "outputs": [],
   "source": []
  }
 ],
 "metadata": {
  "kernelspec": {
   "display_name": "Python 3",
   "language": "python",
   "name": "python3"
  },
  "language_info": {
   "codemirror_mode": {
    "name": "ipython",
    "version": 3
   },
   "file_extension": ".py",
   "mimetype": "text/x-python",
   "name": "python",
   "nbconvert_exporter": "python",
   "pygments_lexer": "ipython3",
   "version": "3.9.2"
  }
 },
 "nbformat": 4,
 "nbformat_minor": 5
}

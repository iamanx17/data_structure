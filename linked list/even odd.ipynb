{
 "cells": [
  {
   "cell_type": "code",
   "execution_count": 3,
   "id": "817e5088",
   "metadata": {},
   "outputs": [
    {
     "name": "stdout",
     "output_type": "stream",
     "text": [
      "1\n",
      "1 4 5 2 -1\n",
      "1->5->4->2->None\n"
     ]
    }
   ],
   "source": [
    "class Node:\n",
    "    def __init__(self,data):\n",
    "        self.data=data\n",
    "        self.next=None\n",
    "\n",
    "def takeinput():\n",
    "    inputlist=[int(ele) for ele in input().split()]\n",
    "    head=None\n",
    "    tail=None\n",
    "    for currdata in inputlist:\n",
    "        if currdata==-1:\n",
    "            break\n",
    "        \n",
    "        newnode=Node(currdata)\n",
    "        if head is None:\n",
    "            head=newnode\n",
    "            tail=newnode\n",
    "        else:\n",
    "            tail.next=newnode\n",
    "            tail=newnode\n",
    "    return head\n",
    "\n",
    "def printdata(head):\n",
    "    while head is not None:\n",
    "        print(str(head.data)+'->',end='')\n",
    "        head=head.next\n",
    "    print('None')\n",
    "\n",
    "def reverse(head):\n",
    "    prev=None\n",
    "    curr=head\n",
    "    while curr is not None:\n",
    "        nxt=curr.next\n",
    "        curr.next=prev\n",
    "        prev=curr\n",
    "        curr=nxt\n",
    "    return prev\n",
    "    \n",
    "def evenodd(head):\n",
    "    odd=None\n",
    "    even=None\n",
    "    curr=head\n",
    "    while curr is not None:\n",
    "        nxt=curr.next\n",
    "        if curr.data%2==0:            \n",
    "            curr.next=even\n",
    "            even=curr\n",
    "        else:\n",
    "            curr.next=odd\n",
    "            odd=curr\n",
    "        curr=nxt\n",
    "    odd=reverse(odd)\n",
    "    source=odd\n",
    "    even=reverse(even)\n",
    "    while odd.next is not None:\n",
    "        odd=odd.next\n",
    "    odd.next=even\n",
    "    printdata(source)          \n",
    "            \n",
    "    \n",
    "        \n",
    "\n",
    "for i in range(int(input())):\n",
    "    head=takeinput()\n",
    "    evenodd(head)\n",
    "\n",
    "\n",
    "    "
   ]
  },
  {
   "cell_type": "code",
   "execution_count": null,
   "id": "9efa1319",
   "metadata": {},
   "outputs": [],
   "source": []
  }
 ],
 "metadata": {
  "kernelspec": {
   "display_name": "Python 3",
   "language": "python",
   "name": "python3"
  },
  "language_info": {
   "codemirror_mode": {
    "name": "ipython",
    "version": 3
   },
   "file_extension": ".py",
   "mimetype": "text/x-python",
   "name": "python",
   "nbconvert_exporter": "python",
   "pygments_lexer": "ipython3",
   "version": "3.9.2"
  }
 },
 "nbformat": 4,
 "nbformat_minor": 5
}

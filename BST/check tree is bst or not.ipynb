{
 "cells": [
  {
   "cell_type": "code",
   "execution_count": 6,
   "id": "c3a4a417",
   "metadata": {},
   "outputs": [],
   "source": [
    "class Node:\n",
    "    \n",
    "    def __init__(self,data):\n",
    "        self.data=data\n",
    "        self.left=None\n",
    "        self.right=None\n",
    "    \n",
    "def takeinput():\n",
    "    data=int(input())\n",
    "    if data==-1:\n",
    "        return\n",
    "    newnode=Node(data)\n",
    "    newnode.left=takeinput()\n",
    "    newnode.right=takeinput()\n",
    "    return newnode\n",
    "\n",
    "def printdata(root):\n",
    "    if root is None:\n",
    "        return\n",
    "    \n",
    "    print(root.data,end=':')    \n",
    "    if root.left is not None:\n",
    "        print('L',root.left.data, end=',')\n",
    "    if root.right is not None:\n",
    "        print('R',root.right.data)\n",
    "    print()\n",
    "    \n",
    "    printdata(root.left)\n",
    "    printdata(root.right)\n",
    "\n",
    "\n",
    "def minTree(root):\n",
    "    if root is None:\n",
    "        return 100000\n",
    "    leftmin=minTree(root.left)\n",
    "    rightmin=minTree(root.right)\n",
    "    return min(leftmin,rightmin,root.data)\n",
    "\n",
    "def maxTree(root):\n",
    "    if root is None:\n",
    "        return -100000\n",
    "    leftmin=maxTree(root.left)\n",
    "    rightmin=maxTree(root.right)\n",
    "    return max(leftmin,rightmin,root.data)\n",
    "\n",
    "def isbst(root):\n",
    "    if root is None:\n",
    "        return True\n",
    "    leftmax=maxTree(root.left)\n",
    "    rightmin=minTree(root.right)\n",
    "    if root.data>rightmin or root.data<=leftmax:\n",
    "        return False\n",
    "        \n",
    "    isleftbst=isbst(root.left)\n",
    "    isrightbst=isbst(root.right)\n",
    "    return isleftbst and isrightbst"
   ]
  },
  {
   "cell_type": "code",
   "execution_count": 7,
   "id": "7c7e3dea",
   "metadata": {},
   "outputs": [
    {
     "name": "stdout",
     "output_type": "stream",
     "text": [
      "4\n",
      "2\n",
      "1\n",
      "-1\n",
      "-1\n",
      "10\n",
      "-1\n",
      "-1\n",
      "5\n",
      "7\n",
      "-1\n",
      "-1\n",
      "6\n",
      "-1\n",
      "-1\n",
      "4:L 2,R 5\n",
      "\n",
      "2:L 1,R 10\n",
      "\n",
      "1:\n",
      "10:\n",
      "5:L 7,R 6\n",
      "\n",
      "7:\n",
      "6:\n",
      "False\n"
     ]
    }
   ],
   "source": [
    "root=takeinput()\n",
    "printdata(root)\n",
    "print(isbst(root))"
   ]
  },
  {
   "cell_type": "code",
   "execution_count": null,
   "id": "68d23386",
   "metadata": {},
   "outputs": [],
   "source": []
  }
 ],
 "metadata": {
  "kernelspec": {
   "display_name": "Python 3",
   "language": "python",
   "name": "python3"
  },
  "language_info": {
   "codemirror_mode": {
    "name": "ipython",
    "version": 3
   },
   "file_extension": ".py",
   "mimetype": "text/x-python",
   "name": "python",
   "nbconvert_exporter": "python",
   "pygments_lexer": "ipython3",
   "version": "3.9.2"
  }
 },
 "nbformat": 4,
 "nbformat_minor": 5
}

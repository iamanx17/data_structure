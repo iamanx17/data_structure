{
 "cells": [
  {
   "cell_type": "code",
   "execution_count": 10,
   "id": "684924a4",
   "metadata": {},
   "outputs": [],
   "source": [
    "class Node:    \n",
    "    def __init__(self,data):\n",
    "        self.data=data\n",
    "        self.left=None\n",
    "        self.right=None\n",
    "    \n",
    "def takeinput():\n",
    "    data=int(input())\n",
    "    if data==-1:\n",
    "        return\n",
    "    newnode=Node(data)\n",
    "    newnode.left=takeinput()\n",
    "    newnode.right=takeinput()\n",
    "    return newnode\n",
    "\n",
    "def printdata(root):\n",
    "    if root is None:\n",
    "        return\n",
    "    \n",
    "    print(root.data,end=':')    \n",
    "    if root.left is not None:\n",
    "        print('L',root.left.data, end=',')\n",
    "    if root.right is not None:\n",
    "        print('R',root.right,data)\n",
    "    print()\n",
    "    \n",
    "    printdata(root.left)\n",
    "    printdata(root.right)    \n",
    "\n",
    "    \n",
    "def search(root,x):\n",
    "    if root is None:\n",
    "        return False\n",
    "    if root.data==x:\n",
    "        return True\n",
    "    elif root.data>x:\n",
    "        return search(root.left,x)\n",
    "    else:\n",
    "        return search(root.right,x)"
   ]
  },
  {
   "cell_type": "code",
   "execution_count": 11,
   "id": "709951bd",
   "metadata": {},
   "outputs": [
    {
     "name": "stdout",
     "output_type": "stream",
     "text": [
      "4\n",
      "2\n",
      "1\n",
      "-1\n",
      "-1\n",
      "3\n",
      "-1\n",
      "-1\n",
      "6\n",
      "5\n",
      "-1\n",
      "-1\n",
      "7\n",
      "-1\n",
      "-1\n",
      "9\n",
      "False\n"
     ]
    }
   ],
   "source": [
    "root=takeinput()\n",
    "x=int(input())\n",
    "print(search(root,x))"
   ]
  },
  {
   "cell_type": "code",
   "execution_count": null,
   "id": "89c56baf",
   "metadata": {},
   "outputs": [],
   "source": []
  }
 ],
 "metadata": {
  "kernelspec": {
   "display_name": "Python 3",
   "language": "python",
   "name": "python3"
  },
  "language_info": {
   "codemirror_mode": {
    "name": "ipython",
    "version": 3
   },
   "file_extension": ".py",
   "mimetype": "text/x-python",
   "name": "python",
   "nbconvert_exporter": "python",
   "pygments_lexer": "ipython3",
   "version": "3.9.2"
  }
 },
 "nbformat": 4,
 "nbformat_minor": 5
}

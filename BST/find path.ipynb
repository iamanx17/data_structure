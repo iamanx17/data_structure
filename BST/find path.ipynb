{
 "cells": [
  {
   "cell_type": "code",
   "execution_count": 1,
   "id": "66a3f54b",
   "metadata": {},
   "outputs": [],
   "source": [
    "class Node:   \n",
    "    def __init__(self,data):\n",
    "        self.data = data\n",
    "        self.left = None\n",
    "        self.right = None\n",
    "        \n",
    "def takeinput():\n",
    "    data = int(input())\n",
    "    if data == -1:\n",
    "        return\n",
    "    newnode = Node(data)\n",
    "    newnode.left = takeinput()\n",
    "    newnode.right = takeinput()\n",
    "    return newnode\n",
    "\n",
    "def printdata(root):\n",
    "    if root is None:\n",
    "        return  \n",
    "    \n",
    "    print(root.data,end = ':')    \n",
    "    if root.left is not None:\n",
    "        print('L',root.left.data, end = ',')\n",
    "    if root.right is not None:\n",
    "        print('R',root.right,data)\n",
    "    print()   \n",
    "    \n",
    "    printdata(root.left)\n",
    "    printdata(root.right)\n",
    "\n",
    "\n",
    "def findpath(root,data):\n",
    "    if root is None:\n",
    "        return None\n",
    "    if root.data==data:\n",
    "        l=list()\n",
    "        l.append(data)\n",
    "        return l\n",
    "    left=findpath(root.left, data)\n",
    "    if left!=None:\n",
    "        left.append(root.data)\n",
    "        return left\n",
    "    right=findpath(root.right, data)\n",
    "    if right!=None:\n",
    "        right.append(root.data)\n",
    "        return right\n",
    "    else:\n",
    "        return None"
   ]
  },
  {
   "cell_type": "code",
   "execution_count": null,
   "id": "b3e59982",
   "metadata": {},
   "outputs": [],
   "source": [
    "roo"
   ]
  }
 ],
 "metadata": {
  "kernelspec": {
   "display_name": "Python 3",
   "language": "python",
   "name": "python3"
  },
  "language_info": {
   "codemirror_mode": {
    "name": "ipython",
    "version": 3
   },
   "file_extension": ".py",
   "mimetype": "text/x-python",
   "name": "python",
   "nbconvert_exporter": "python",
   "pygments_lexer": "ipython3",
   "version": "3.9.2"
  }
 },
 "nbformat": 4,
 "nbformat_minor": 5
}

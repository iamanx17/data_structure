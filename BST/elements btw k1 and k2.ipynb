{
 "cells": [
  {
   "cell_type": "code",
   "execution_count": 1,
   "id": "2f3cd66a",
   "metadata": {},
   "outputs": [],
   "source": [
    "class Node:\n",
    "    \n",
    "    def __init__(self,data):\n",
    "        self.data=data\n",
    "        self.left=None\n",
    "        self.right=None\n",
    "    \n",
    "def takeinput():\n",
    "    data=int(input())\n",
    "    if data==-1:\n",
    "        return\n",
    "    newnode=Node(data)\n",
    "    newnode.left=takeinput()\n",
    "    newnode.right=takeinput()\n",
    "    return newnode\n",
    "\n",
    "def printdata(root):\n",
    "    if root is None:\n",
    "        return\n",
    "    \n",
    "    print(root.data,end=':')    \n",
    "    if root.left is not None:\n",
    "        print('L',root.left.data, end=',')\n",
    "    if root.right is not None:\n",
    "        print('R',root.right,data)\n",
    "    print()\n",
    "    \n",
    "    printdata(root.left)\n",
    "    printdata(root.right)\n",
    "def printbtwk1k2(root,k1,k2):\n",
    "    if root is None:\n",
    "        return\n",
    "    if root.data >k2:\n",
    "        printbtwk1k2(root.left,k1,k2)\n",
    "    elif root.data<k1:\n",
    "        printbtwk1k2(root.right,k1,k2)\n",
    "    else:\n",
    "        print(root.data)\n",
    "        printbtwk1k2(root.left,k1,k2)\n",
    "        printbtwk1k2(root.right,k1,k2)\n",
    "    "
   ]
  },
  {
   "cell_type": "code",
   "execution_count": 2,
   "id": "f4dc53ae",
   "metadata": {},
   "outputs": [
    {
     "name": "stdout",
     "output_type": "stream",
     "text": [
      "4\n",
      "2\n",
      "1\n",
      "-1\n",
      "-1\n",
      "3\n",
      "-1\n",
      "-1\n",
      "10\n",
      "7\n",
      "5\n",
      "-1\n",
      "-1\n",
      "6\n",
      "-1\n",
      "-1\n",
      "12\n",
      "10\n",
      "-1\n",
      "-1\n",
      "18\n",
      "-1\n",
      "-1\n",
      "10\n",
      "7\n"
     ]
    }
   ],
   "source": [
    "root=takeinput()\n",
    "k1=int(input())\n",
    "k2=int(input())\n",
    "printbtwk1k2(root,k1,k2)"
   ]
  },
  {
   "cell_type": "code",
   "execution_count": null,
   "id": "dccb5b77",
   "metadata": {},
   "outputs": [],
   "source": []
  }
 ],
 "metadata": {
  "kernelspec": {
   "display_name": "Python 3",
   "language": "python",
   "name": "python3"
  },
  "language_info": {
   "codemirror_mode": {
    "name": "ipython",
    "version": 3
   },
   "file_extension": ".py",
   "mimetype": "text/x-python",
   "name": "python",
   "nbconvert_exporter": "python",
   "pygments_lexer": "ipython3",
   "version": "3.9.2"
  }
 },
 "nbformat": 4,
 "nbformat_minor": 5
}

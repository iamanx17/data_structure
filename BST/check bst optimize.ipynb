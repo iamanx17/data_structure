{
 "cells": [
  {
   "cell_type": "code",
   "execution_count": 3,
   "id": "e5fae95e",
   "metadata": {},
   "outputs": [],
   "source": [
    "class Node:\n",
    "    \n",
    "    def __init__(self,data):\n",
    "        self.data=data\n",
    "        self.left=None\n",
    "        self.right=None\n",
    "    \n",
    "def takeinput():\n",
    "    data=int(input())\n",
    "    if data==-1:\n",
    "        return\n",
    "    newnode=Node(data)\n",
    "    newnode.left=takeinput()\n",
    "    newnode.right=takeinput()\n",
    "    return newnode\n",
    "\n",
    "def printdata(root):\n",
    "    if root is None:\n",
    "        return\n",
    "    \n",
    "    print(root.data,end=':')    \n",
    "    if root.left is not None:\n",
    "        print('L',root.left.data, end=',')\n",
    "    if root.right is not None:\n",
    "        print('R',root.right.data)\n",
    "    print()\n",
    "    \n",
    "    printdata(root.left)\n",
    "    printdata(root.right)\n",
    "    \n",
    "def isbst2(root):\n",
    "    if root is None:\n",
    "        return 100000,-100000, True\n",
    "    \n",
    "    leftmin, leftmax, isleftbst = isbst2(root.left)\n",
    "    rightmin, rightmax, isrightbst = isbst2(root.right)\n",
    "    \n",
    "    minimum = min(leftmin, rightmin, root.data)\n",
    "    maximum = max(leftmax, rightmax, root.data)\n",
    "    \n",
    "    isTreebst=True\n",
    "    if root.data <= leftmax or root.data > rightmin:\n",
    "        isTreebst = False\n",
    "    if not  (isleftbst) or not (isrightbst):\n",
    "        isTreebst = False\n",
    "    return minimum, maximum , isTreebst"
   ]
  },
  {
   "cell_type": "code",
   "execution_count": 4,
   "id": "1b6864fd",
   "metadata": {},
   "outputs": [
    {
     "name": "stdout",
     "output_type": "stream",
     "text": [
      "4\n",
      "2\n",
      "1\n",
      "-1\n",
      "-1\n",
      "3\n",
      "-1\n",
      "-1\n",
      "6\n",
      "5\n",
      "-1\n",
      "-1\n",
      "7\n",
      "-1\n",
      "-1\n",
      "1\n"
     ]
    }
   ],
   "source": [
    "root = takeinput()\n",
    "x=isbst2(root)\n"
   ]
  },
  {
   "cell_type": "code",
   "execution_count": 5,
   "id": "953c505f",
   "metadata": {},
   "outputs": [
    {
     "data": {
      "text/plain": [
       "(1, 7, True)"
      ]
     },
     "execution_count": 5,
     "metadata": {},
     "output_type": "execute_result"
    }
   ],
   "source": [
    "x"
   ]
  }
 ],
 "metadata": {
  "kernelspec": {
   "display_name": "Python 3",
   "language": "python",
   "name": "python3"
  },
  "language_info": {
   "codemirror_mode": {
    "name": "ipython",
    "version": 3
   },
   "file_extension": ".py",
   "mimetype": "text/x-python",
   "name": "python",
   "nbconvert_exporter": "python",
   "pygments_lexer": "ipython3",
   "version": "3.9.2"
  }
 },
 "nbformat": 4,
 "nbformat_minor": 5
}

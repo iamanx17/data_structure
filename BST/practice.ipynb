{
 "cells": [
  {
   "cell_type": "code",
   "execution_count": 8,
   "id": "98aa1a79",
   "metadata": {},
   "outputs": [],
   "source": [
    "class Tree:\n",
    "    def __init__(self, data):\n",
    "        self.data=data\n",
    "        self.left=None\n",
    "        self.right=None\n",
    "\n",
    "class BST:\n",
    "    def __init__(self):\n",
    "        self.root = None\n",
    "        self.count = 0\n",
    "    \n",
    "    def inserthelper(self,root,data):\n",
    "        if root is None:\n",
    "            newnode=Tree(data)\n",
    "            return newnode\n",
    "        if root.data > data:\n",
    "            root.left = self.inserthelper(root.left, data)      \n",
    "        else:\n",
    "            root.right = self.inserthelper(root.right, data)       \n",
    "        return root\n",
    "       \n",
    "        \n",
    "    def insert(self,data):\n",
    "        self.count+=1\n",
    "        self.root=self.inserthelper(self.root,data)\n",
    "    \n",
    "    def printreehelper(self, root):\n",
    "        if root is None:\n",
    "            return \n",
    "        print(root.data, end=':')\n",
    "        if root.left is not None:\n",
    "            print('L', root.left.data , end=',')\n",
    "        if root.right is not None:\n",
    "            print('R', root.right.data)\n",
    "        print()\n",
    "        self.printreehelper(root.left)\n",
    "        self.printreehelper(root.right)\n",
    "        \n",
    "    def printree(self):\n",
    "        self.printreehelper(self.root)\n",
    "    \n",
    "    def size(self):\n",
    "        return self.count\n",
    "    \n",
    "    def ispresenthelper(self, root, data):\n",
    "        if root is None:\n",
    "            return False\n",
    "        if root.data == data:\n",
    "            return True\n",
    "        if root.data > data:\n",
    "            return self.ispresenthelper(root.left,data)\n",
    "        else:\n",
    "            return self.ispresenthelper(root.right,data)\n",
    "    \n",
    "    def search(self,data):\n",
    "        return self.ispresenthelper(self.root, data)\n",
    "    \n",
    "    def deletehelper(self,root,data):\n",
    "        if root is None:\n",
    "            return False, None\n",
    "        if root.data > data:\n",
    "            deleted, left = self.deletehelper(root.left,data)\n",
    "            root.left= left    \n",
    "            return deleted,left\n",
    "        if root.data < data:\n",
    "            deleted,right= self.deletehelper(root.right,data)\n",
    "            root.right= right\n",
    "            return deleted, right\n",
    "        if root.left is None and root.right is None:\n",
    "            return True, None\n",
    "        \n",
    "        if root.left is None:\n",
    "            return True, root.right\n",
    "        \n",
    "        if root.right is None:\n",
    "            return True, root.left\n",
    "        \n",
    "        replacement=self.minimum(root.right)\n",
    "        root.data=replacement\n",
    "        deleted,right=self.deletehelper(root.right,replacement)\n",
    "        root.right=right\n",
    "        return True,root\n",
    "    \n",
    "    def delete(self,data):\n",
    "        deleted,root=self.deletehelper(self.root,data)\n",
    "        if deleted:\n",
    "            self.count-=1\n",
    "        self.root=root\n",
    "        return deleted\n",
    "        "
   ]
  },
  {
   "cell_type": "code",
   "execution_count": 9,
   "id": "6783dbed",
   "metadata": {},
   "outputs": [],
   "source": [
    "b=BST()"
   ]
  },
  {
   "cell_type": "code",
   "execution_count": 10,
   "id": "fba0c236",
   "metadata": {},
   "outputs": [],
   "source": [
    "for i in range(10):\n",
    "    b.insert(i)"
   ]
  },
  {
   "cell_type": "code",
   "execution_count": 11,
   "id": "35e504e1",
   "metadata": {},
   "outputs": [
    {
     "name": "stdout",
     "output_type": "stream",
     "text": [
      "0:R 1\n",
      "\n",
      "1:R 2\n",
      "\n",
      "2:R 3\n",
      "\n",
      "3:R 4\n",
      "\n",
      "4:R 5\n",
      "\n",
      "5:R 6\n",
      "\n",
      "6:R 7\n",
      "\n",
      "7:R 8\n",
      "\n",
      "8:R 9\n",
      "\n",
      "9:\n"
     ]
    }
   ],
   "source": [
    "b.printree()"
   ]
  },
  {
   "cell_type": "code",
   "execution_count": 13,
   "id": "5f5f8c25",
   "metadata": {},
   "outputs": [
    {
     "data": {
      "text/plain": [
       "10"
      ]
     },
     "execution_count": 13,
     "metadata": {},
     "output_type": "execute_result"
    }
   ],
   "source": [
    "b.size()"
   ]
  },
  {
   "cell_type": "code",
   "execution_count": 14,
   "id": "6697d7e3",
   "metadata": {},
   "outputs": [],
   "source": [
    "for i in range(10):\n",
    "    b.delete(i)"
   ]
  },
  {
   "cell_type": "code",
   "execution_count": 16,
   "id": "b697a8f0",
   "metadata": {},
   "outputs": [
    {
     "data": {
      "text/plain": [
       "False"
      ]
     },
     "execution_count": 16,
     "metadata": {},
     "output_type": "execute_result"
    }
   ],
   "source": [
    "b.search(0)"
   ]
  },
  {
   "cell_type": "code",
   "execution_count": 18,
   "id": "a1647f2e",
   "metadata": {},
   "outputs": [
    {
     "data": {
      "text/plain": [
       "False"
      ]
     },
     "execution_count": 18,
     "metadata": {},
     "output_type": "execute_result"
    }
   ],
   "source": [
    "b.delete(1)"
   ]
  },
  {
   "cell_type": "code",
   "execution_count": null,
   "id": "21cdc3b3",
   "metadata": {},
   "outputs": [],
   "source": []
  }
 ],
 "metadata": {
  "kernelspec": {
   "display_name": "Python 3",
   "language": "python",
   "name": "python3"
  },
  "language_info": {
   "codemirror_mode": {
    "name": "ipython",
    "version": 3
   },
   "file_extension": ".py",
   "mimetype": "text/x-python",
   "name": "python",
   "nbconvert_exporter": "python",
   "pygments_lexer": "ipython3",
   "version": "3.9.2"
  }
 },
 "nbformat": 4,
 "nbformat_minor": 5
}

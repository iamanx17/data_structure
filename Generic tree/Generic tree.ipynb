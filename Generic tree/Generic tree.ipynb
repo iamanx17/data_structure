{
 "cells": [
  {
   "cell_type": "code",
   "execution_count": 4,
   "id": "7b3080dd",
   "metadata": {},
   "outputs": [],
   "source": [
    "class Node:\n",
    "    def __init__(self,data):\n",
    "        self.data=data\n",
    "        self.next=None\n",
    "        \n",
    "class Queue:\n",
    "    def __init__(self):\n",
    "        self.__head=None\n",
    "        self.__tail=None\n",
    "        self.__count=0\n",
    "    \n",
    "    def enqueue(self,data):\n",
    "        newnode=Node(data)\n",
    "        if self.__head is None:\n",
    "            self.__head=newnode\n",
    "        else:\n",
    "            self.__tail.next=newnode\n",
    "        self.__tail=newnode\n",
    "        self.__count+=1\n",
    "    \n",
    "    def dequeue(self):\n",
    "        if self.__head is None:\n",
    "            return 0        \n",
    "        data=self.__head.data\n",
    "        self.__head = self.__head.next\n",
    "        self.__count-=1\n",
    "        return data\n",
    "    \n",
    "    def front(self):\n",
    "        if self.__head is None:\n",
    "            return 0\n",
    "        data=self.__head.data\n",
    "        return data\n",
    "    \n",
    "    def size(self):\n",
    "        return self.__count\n",
    "    \n",
    "    def isEmpty(self):\n",
    "        return self.size()==0\n",
    "        \n",
    "q=Queue()"
   ]
  },
  {
   "cell_type": "code",
   "execution_count": 5,
   "id": "ab2bba59",
   "metadata": {},
   "outputs": [],
   "source": [
    "class Tree:\n",
    "    def __init__(self,data):\n",
    "        self.data=data\n",
    "        self.children=list()    \n",
    "\n",
    "def takeinput():\n",
    "    rootdata=int(input(\"Enter root data\"))\n",
    "    if rootdata==-1:\n",
    "        return None   \n",
    "    \n",
    "    root=Tree(rootdata)\n",
    "    q.enqueue(root)    \n",
    "    while not q.isEmpty():\n",
    "        curr=q.dequeue()\n",
    "        print('Enter number of children for',curr.data)\n",
    "        for i in range(int(input())):\n",
    "            print(\"Enter next child for \", curr.data)\n",
    "            child=int(input())\n",
    "            childnode = Tree(child)\n",
    "            q.enqueue(childnode)\n",
    "            curr.children.append(childnode)    \n",
    "    return root\n",
    "\n",
    "def printdata(root):\n",
    "    if root is None:\n",
    "        return     \n",
    "    print(root.data,':',end=\"\")\n",
    "    for child in root.children:\n",
    "        print(child.data,',',end='')\n",
    "    print()\n",
    "    for child in root.children:\n",
    "        printdata(child)\n",
    "    \n"
   ]
  },
  {
   "cell_type": "code",
   "execution_count": 7,
   "id": "45dd657f",
   "metadata": {},
   "outputs": [
    {
     "name": "stdout",
     "output_type": "stream",
     "text": [
      "Enter root data-1\n"
     ]
    }
   ],
   "source": [
    "root=takeinput()\n",
    "printdata(root)"
   ]
  },
  {
   "cell_type": "code",
   "execution_count": null,
   "id": "c45e2174",
   "metadata": {},
   "outputs": [],
   "source": []
  }
 ],
 "metadata": {
  "kernelspec": {
   "display_name": "Python 3",
   "language": "python",
   "name": "python3"
  },
  "language_info": {
   "codemirror_mode": {
    "name": "ipython",
    "version": 3
   },
   "file_extension": ".py",
   "mimetype": "text/x-python",
   "name": "python",
   "nbconvert_exporter": "python",
   "pygments_lexer": "ipython3",
   "version": "3.9.2"
  }
 },
 "nbformat": 4,
 "nbformat_minor": 5
}

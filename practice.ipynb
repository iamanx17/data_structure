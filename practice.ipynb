{
 "cells": [
  {
   "cell_type": "code",
   "execution_count": 4,
   "id": "af50f1d6",
   "metadata": {},
   "outputs": [],
   "source": [
    "class Tree:\n",
    "    def __init__(self, data):\n",
    "        self.data=data\n",
    "        self.left=None\n",
    "        self.right=None\n",
    "        \n",
    "def takeinput():\n",
    "    data=int(input())\n",
    "    if data==-1:\n",
    "        return\n",
    "    newnode=Tree(data)\n",
    "    newnode.left=takeinput()\n",
    "    newnode.right=takeinput()\n",
    "    return newnode\n",
    "\n",
    "def printdata(root):\n",
    "    if root is None:\n",
    "        return\n",
    "    print(root.data,end=':')\n",
    "    if root.left is not None:\n",
    "        print('L',root.left.data, end=',')\n",
    "    if root.right is not None:\n",
    "        print('R',root.right.data)\n",
    "    print()\n",
    "    printdata(root.left)\n",
    "\n",
    "def search(root,k):\n",
    "    if root == None:\n",
    "        return False\n",
    "    if root.data==k:\n",
    "        return root.data\n",
    "    elif root.data>k:\n",
    "        return search(root.left, k)\n",
    "    elif root.data<k:\n",
    "        return search(root.right,k)\n",
    "    else:\n",
    "        return False\n",
    "    \n",
    "\n",
    "def elebwk1k2(root,k1,k2):\n",
    "    if root is None:\n",
    "        return \n",
    "    \n",
    "    if root.data<=k1 and root.data>=k2:\n",
    "        print(root.data)\n",
    "    \n",
    "    if root.data>k1:\n",
    "        elebwk1k2(root.left,k1,k2)\n",
    "        \n",
    "    if root.data<k2:\n",
    "        elebwk1k2(root.right,k1,k2)\n",
    "\n",
    "    \n",
    "    "
   ]
  },
  {
   "cell_type": "code",
   "execution_count": 5,
   "id": "3647be71",
   "metadata": {},
   "outputs": [
    {
     "name": "stdout",
     "output_type": "stream",
     "text": [
      "3\n",
      "2\n",
      "1\n",
      "-1\n",
      "-1\n",
      "-1\n",
      "4\n",
      "5\n",
      "-1\n",
      "-1\n",
      "-1\n",
      "3:L 2,R 4\n",
      "\n",
      "2:L 1,\n",
      "1:\n",
      "2\n",
      "4\n"
     ]
    }
   ],
   "source": [
    "root=takeinput()\n",
    "printdata(root)\n",
    "k1=int(input())\n",
    "k2=int(input())\n",
    "elebwk1k2(root,k1,k2)"
   ]
  },
  {
   "cell_type": "code",
   "execution_count": null,
   "id": "6eeae843",
   "metadata": {},
   "outputs": [],
   "source": []
  }
 ],
 "metadata": {
  "kernelspec": {
   "display_name": "Python 3",
   "language": "python",
   "name": "python3"
  },
  "language_info": {
   "codemirror_mode": {
    "name": "ipython",
    "version": 3
   },
   "file_extension": ".py",
   "mimetype": "text/x-python",
   "name": "python",
   "nbconvert_exporter": "python",
   "pygments_lexer": "ipython3",
   "version": "3.9.2"
  }
 },
 "nbformat": 4,
 "nbformat_minor": 5
}
